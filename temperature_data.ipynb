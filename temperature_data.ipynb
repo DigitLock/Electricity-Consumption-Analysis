{
 "cells": [
  {
   "cell_type": "code",
   "execution_count": 1,
   "id": "6788bd41-bb12-4355-9fa0-297b072f8a7d",
   "metadata": {},
   "outputs": [],
   "source": [
    "# required packages\n",
    "\n",
    "from urllib.request import Request, urlopen\n",
    "from bs4 import BeautifulSoup\n",
    "import requests\n",
    "import csv\n",
    "\n",
    "import pandas as pd  #just to check saved data"
   ]
  },
  {
   "cell_type": "code",
   "execution_count": 2,
   "id": "4850af0c-158b-4259-bf3f-38b6e669e973",
   "metadata": {},
   "outputs": [],
   "source": [
    "# reading URLs which contains the data need to scrape\n",
    "\n",
    "req_april_2023 = Request('https://www.accuweather.com/en/ph/dauin/265031/april-weather/265031?year=2023', \n",
    "            headers={'User-Agent': 'XYZ/3.0'})\n",
    "page_april_2023 = urlopen(req_april_2023, timeout=10).read()\n",
    "\n",
    "req_may_2023 = Request('https://www.accuweather.com/en/ph/dauin/265031/may-weather/265031?year=2023', \n",
    "            headers={'User-Agent': 'XYZ/3.0'})\n",
    "page_may_2023 = urlopen(req_may_2023, timeout=10).read()\n",
    "\n",
    "req_june_2023 = Request('https://www.accuweather.com/en/ph/dauin/265031/june-weather/265031?year=2023', \n",
    "            headers={'User-Agent': 'XYZ/3.0'})\n",
    "page_june_2023 = urlopen(req_june_2023, timeout=10).read()"
   ]
  },
  {
   "cell_type": "code",
   "execution_count": 3,
   "id": "2a2e9358-3b1a-497a-8f26-226c3393f134",
   "metadata": {},
   "outputs": [],
   "source": [
    "# soup objects\n",
    "\n",
    "soup_april_2023 = BeautifulSoup(page_april_2023,\"html5lib\")\n",
    "soup_may_2023 = BeautifulSoup(page_may_2023,\"html5lib\")\n",
    "soup_june_2023 = BeautifulSoup(page_june_2023,\"html5lib\")"
   ]
  },
  {
   "cell_type": "code",
   "execution_count": 4,
   "id": "f81f0467-30dd-470a-abb0-708dc3eebaec",
   "metadata": {},
   "outputs": [],
   "source": [
    "# getting tables which represented by the tag <div> with parametr class\n",
    "\n",
    "table_april_2023 = soup_april_2023.find('div', class_='monthly-calendar')\n",
    "table_may_2023 = soup_may_2023.find('div', class_='monthly-calendar')\n",
    "table_june_2023 = soup_june_2023.find('div', class_='monthly-calendar')"
   ]
  },
  {
   "cell_type": "code",
   "execution_count": 5,
   "id": "d364da97-75a8-4d6d-baf9-edd58a0a0aa0",
   "metadata": {},
   "outputs": [],
   "source": [
    "# creating file and writing data with temperature (only days I have in main dataset)\n",
    "\n",
    "f = open('Data/temperature_data.csv', 'w')\n",
    "writer = csv.writer(f)\n",
    "\n",
    "writer.writerow([\"Date\", \"High\", \"Low\"])\n",
    "\n",
    "# April\n",
    "for i in range(19, 36):\n",
    "    row = table_april_2023.find_all('a', class_='monthly-daypanel is-past')[i]\n",
    "\n",
    "    cols1 = row.find_all('div', class_='date')\n",
    "    day = cols1[0].getText().strip()\n",
    "\n",
    "    cols2 = row.find_all('div', class_='high')\n",
    "    high = cols2[0].getText().strip()\n",
    "\n",
    "    cols3 = row.find_all('div', class_='low')\n",
    "    low = cols3[0].getText().strip()\n",
    "    \n",
    "    writer.writerow([day+'.04.2023', high, low])\n",
    "\n",
    "# May\n",
    "for i in range(1, 32):\n",
    "    row = table_may_2023.find_all('a', class_='monthly-daypanel is-past')[i]\n",
    "\n",
    "    cols1 = row.find_all('div', class_='date')\n",
    "    day = cols1[0].getText().strip()\n",
    "\n",
    "    cols2 = row.find_all('div', class_='high')\n",
    "    high = cols2[0].getText().strip()\n",
    "\n",
    "    cols3 = row.find_all('div', class_='low')\n",
    "    low = cols3[0].getText().strip()\n",
    "    \n",
    "    writer.writerow([day+'.05.2023', high, low])\n",
    "\n",
    "# June\n",
    "for i in range(4, 16):\n",
    "    row = table_june_2023.find_all('a', class_='monthly-daypanel is-past')[i]\n",
    "\n",
    "    cols1 = row.find_all('div', class_='date')\n",
    "    day = cols1[0].getText().strip()\n",
    "\n",
    "    cols2 = row.find_all('div', class_='high')\n",
    "    high = cols2[0].getText().strip()\n",
    "\n",
    "    cols3 = row.find_all('div', class_='low')\n",
    "    low = cols3[0].getText().strip()\n",
    "    \n",
    "    writer.writerow([day+'.06.2023', high, low])\n",
    "\n",
    "f.close()"
   ]
  },
  {
   "cell_type": "code",
   "execution_count": null,
   "id": "d9a7f7f3-51f1-4f06-9412-c625b062b537",
   "metadata": {},
   "outputs": [],
   "source": [
    "# checking results \n",
    "\n",
    "ff = pd.read_csv(\"Data/temperature_data.csv\")\n",
    "ff"
   ]
  },
  {
   "cell_type": "code",
   "execution_count": null,
   "id": "c39c9ad6-a8df-496f-aa27-b939611d6838",
   "metadata": {},
   "outputs": [],
   "source": []
  }
 ],
 "metadata": {
  "kernelspec": {
   "display_name": "Python 3 (ipykernel)",
   "language": "python",
   "name": "python3"
  },
  "language_info": {
   "codemirror_mode": {
    "name": "ipython",
    "version": 3
   },
   "file_extension": ".py",
   "mimetype": "text/x-python",
   "name": "python",
   "nbconvert_exporter": "python",
   "pygments_lexer": "ipython3",
   "version": "3.9.7"
  }
 },
 "nbformat": 4,
 "nbformat_minor": 5
}
